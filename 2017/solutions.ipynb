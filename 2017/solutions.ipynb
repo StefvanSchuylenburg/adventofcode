{
 "cells": [
  {
   "cell_type": "markdown",
   "metadata": {},
   "source": [
    "# Day 1: Inverse Captcha"
   ]
  },
  {
   "cell_type": "code",
   "execution_count": 19,
   "metadata": {},
   "outputs": [
    {
     "data": {
      "text/plain": [
       "1029"
      ]
     },
     "execution_count": 19,
     "metadata": {},
     "output_type": "execute_result"
    }
   ],
   "source": [
    "with open('input/day1.txt') as file:\n",
    "    input = list(file.read())\n",
    "\n",
    "n = len(input)\n",
    "doubleNumbers = [input[i] for i in range(0, n) \n",
    "                   if input[i] == input[(i+1) % n]]\n",
    "sum(int(d) for d in doubleNumbers)"
   ]
  },
  {
   "cell_type": "code",
   "execution_count": 23,
   "metadata": {},
   "outputs": [
    {
     "ename": "SyntaxError",
     "evalue": "invalid syntax (<ipython-input-23-97e00b1d4137>, line 3)",
     "output_type": "error",
     "traceback": [
      "\u001b[1;36m  File \u001b[1;32m\"<ipython-input-23-97e00b1d4137>\"\u001b[1;36m, line \u001b[1;32m3\u001b[0m\n\u001b[1;33m    sum(int d for d in halfwayDoubleNumbers)\u001b[0m\n\u001b[1;37m            ^\u001b[0m\n\u001b[1;31mSyntaxError\u001b[0m\u001b[1;31m:\u001b[0m invalid syntax\n"
     ]
    }
   ],
   "source": [
    "halfwayDoubleNumbers = [input[i] for i in range(0, n)\n",
    "                         if input[i] == input[int((i + n / 2) % n)]]\n",
    "sum(int d for d in halfwayDoubleNumbers)"
   ]
  }
 ],
 "metadata": {
  "kernelspec": {
   "display_name": "Python 3",
   "language": "python",
   "name": "python3"
  },
  "language_info": {
   "codemirror_mode": {
    "name": "ipython",
    "version": 3
   },
   "file_extension": ".py",
   "mimetype": "text/x-python",
   "name": "python",
   "nbconvert_exporter": "python",
   "pygments_lexer": "ipython3",
   "version": "3.6.3"
  }
 },
 "nbformat": 4,
 "nbformat_minor": 2
}
